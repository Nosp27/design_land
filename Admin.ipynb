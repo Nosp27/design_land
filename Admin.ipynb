{
 "cells": [
  {
   "cell_type": "code",
   "execution_count": 5,
   "metadata": {},
   "outputs": [],
   "source": [
    "import os\n",
    "import json\n",
    "import random"
   ]
  },
  {
   "cell_type": "code",
   "execution_count": 6,
   "metadata": {},
   "outputs": [],
   "source": [
    "files = list(sorted([file for file in os.listdir('./src/design_land/static/img/clothes/') if file[-4:] == '.png']))"
   ]
  },
  {
   "cell_type": "code",
   "execution_count": 7,
   "metadata": {},
   "outputs": [],
   "source": [
    "women = [\n",
    "    '01.png', '02.png', '03.png', '04.png', \n",
    "    '012.png', '013.png', '09.png', '010.png', \n",
    "    '014.png', '15.png', '26.png', '011.png'\n",
    "]\n",
    "men = ['05.png', '06.png', '07.png', '24.png', '25.png']\n",
    "uni=[x for x in files if x not in women and x not in men]"
   ]
  },
  {
   "cell_type": "code",
   "execution_count": 8,
   "metadata": {},
   "outputs": [],
   "source": [
    "w = [dict(path='static/img/clothes/%s' % x, name='Женская одежда', category='women') for x in women]\n",
    "m = [dict(path='static/img/clothes/%s' % x, name='Мужская одежда', category='men') for x in men]\n",
    "u = [dict(path='static/img/clothes/%s' % x, name='Унисекс одежда', category='unisex') for x in uni]"
   ]
  },
  {
   "cell_type": "code",
   "execution_count": 9,
   "metadata": {},
   "outputs": [],
   "source": [
    "d = w + m + u"
   ]
  },
  {
   "cell_type": "code",
   "execution_count": 10,
   "metadata": {},
   "outputs": [],
   "source": [
    "for x in d:\n",
    "    x.update(dict(price=random.randrange(35, 78) * 100))\n"
   ]
  },
  {
   "cell_type": "code",
   "execution_count": null,
   "metadata": {},
   "outputs": [],
   "source": []
  },
  {
   "cell_type": "code",
   "execution_count": 11,
   "metadata": {},
   "outputs": [],
   "source": [
    "with open ('./src/design_land/static/item_category_config.json', 'w') as f:\n",
    "    f.write(json.dumps(d, ensure_ascii=False))"
   ]
  },
  {
   "cell_type": "code",
   "execution_count": null,
   "metadata": {},
   "outputs": [],
   "source": []
  }
 ],
 "metadata": {
  "kernelspec": {
   "display_name": "Python 3",
   "language": "python",
   "name": "python3"
  },
  "language_info": {
   "codemirror_mode": {
    "name": "ipython",
    "version": 3
   },
   "file_extension": ".py",
   "mimetype": "text/x-python",
   "name": "python",
   "nbconvert_exporter": "python",
   "pygments_lexer": "ipython3",
   "version": "3.7.3"
  }
 },
 "nbformat": 4,
 "nbformat_minor": 2
}
